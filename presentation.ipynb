{
 "cells": [
  {
   "cell_type": "markdown",
   "metadata": {
    "slideshow": {
     "slide_type": "slide"
    }
   },
   "source": [
    "# Puppet: Roles and profiles pattern\n",
    "## Short guide to logic, design and implementation"
   ]
  },
  {
   "cell_type": "markdown",
   "metadata": {
    "slideshow": {
     "slide_type": "slide"
    }
   },
   "source": [
    "## What was wrong with previous puppet repository\n",
    "\n",
    "* A bit meshy and patchy\n",
    "* A lot of dependencies, most unnecesary, implemented in a web on requires and stages\n",
    "* Difficult to extend and rearrange components\n",
    "* No separation of code and data"
   ]
  },
  {
   "cell_type": "markdown",
   "metadata": {
    "slideshow": {
     "slide_type": "subslide"
    }
   },
   "source": [
    "## A bit meshy and patchy\n",
    "\n",
    "```puppet\n",
    "class openstack_puppet::tweaks::owl_vlan_mapping( $odl_host ) {\n",
    "  if $::osfamily == 'Debian' {\n",
    "    $package = 'owl-vlan-mapping'\n",
    "    ensure_resource('package', 'python-paramiko', {'ensure' => 'present'})\n",
    "    ensure_resource('package', 'python-flask', {'ensure' => 'present'})\n",
    "    ensure_resource('package', 'gunicorn', {'ensure' => 'present'})\n",
    "    openstack_puppet::lib::custom_package {$package: }\n",
    "  ...\n",
    "```"
   ]
  },
  {
   "cell_type": "markdown",
   "metadata": {
    "slideshow": {
     "slide_type": "subslide"
    }
   },
   "source": [
    "## A lot of dependencies, most unnecesary, implemented in a web on requires and stages\n",
    "\n",
    "```puppet\n",
    "stage { 'repos': }\n",
    "stage { 'rabbitmq': require => Stage['repos'] }\n",
    "stage { 'mysql_server': require => Stage['repos'] }\n",
    "stage { 'mysql_clients': require => Stage['mysql_server'] }\n",
    "stage { 'keystone': require =>     [\n",
    "  Stage['repos'],\n",
    "  Stage['rabbitmq']\n",
    "  ]\n",
    "}\n",
    "```"
   ]
  },
  {
   "cell_type": "markdown",
   "metadata": {
    "slideshow": {
     "slide_type": "subslide"
    }
   },
   "source": [
    "Difficult to extend and rearrange components"
   ]
  },
  {
   "cell_type": "markdown",
   "metadata": {
    "collapsed": true,
    "slideshow": {
     "slide_type": "subslide"
    }
   },
   "source": [
    "## No separation of code and data\n",
    "\n",
    "Variables hardcoded or carried along from the top level class\n",
    "\n",
    "```puppet\n",
    "class openstack_puppet::single_node ( $network_tunnel_ip,\n",
    "                                      $network_external_ip,\n",
    "                                      $network_external_mask,\n",
    "                                      $odl_tarball_url )\n",
    "```\n",
    "ODL tarball is not relevant to single_node class"
   ]
  },
  {
   "cell_type": "markdown",
   "metadata": {
    "slideshow": {
     "slide_type": "slide"
    }
   },
   "source": [
    "## Roles and profiles pattern\n",
    "\n",
    "What are profiles, what are roles and how they differ?"
   ]
  },
  {
   "cell_type": "markdown",
   "metadata": {
    "slideshow": {
     "slide_type": "subslide"
    }
   },
   "source": [
    "## Profile\n",
    "\n",
    "A wrapper class that binds together variables, resources and classes in one functional unit describing a specific **Technology**. For example to deploy a Wordpress one needs to declare a user and group, install packages including apache and mysql and declare a vhost; this is a technology stack and should be declared as a profile\n",
    "\n",
    "```puppet\n",
    "class profiles::wordpress (\n",
    "  $site_name,\n",
    "  $wordpress_user_password,\n",
    "  $mysql_root_password,\n",
    ") {\n",
    "  ## Create user\n",
    "  group { 'wordpress':\n",
    "    ensure => present,\n",
    "    name   => $wordpress_group,\n",
    "  }\n",
    "  user { 'wordpress':\n",
    "    ensure   => present,\n",
    "    gid      => $wordpress_group,\n",
    "    password => $wordpress_user_password,\n",
    "    name     => $wordpress_group,\n",
    "    home     => $wordpress_docroot,\n",
    "  }\n",
    "\n",
    "  ## Configure mysql\n",
    "  class { 'mysql::server':\n",
    "    root_password => $wordpress_root_password,\n",
    "  }\n",
    "\n",
    "  class { 'mysql::bindings':\n",
    "    php_enable => true,\n",
    "  }\n",
    "\n",
    "  ## Configure apache\n",
    "  include apache\n",
    "  include apache::mod::php\n",
    "  apache::vhost { $::fqdn:\n",
    "    port    => $wordpress_port,\n",
    "    docroot => $wordpress_docroot,\n",
    "  }\n",
    "\n",
    "  ## Configure wordpress\n",
    "  class { '::wordpress':\n",
    "    install_dir => $wordpress_docroot,\n",
    "    db_name     => $wordpress_db_name,\n",
    "    db_host     => $wordpress_db_host,\n",
    "    db_password => $wordpress_db_password,\n",
    "  }\n",
    "}\n",
    "```"
   ]
  },
  {
   "cell_type": "markdown",
   "metadata": {
    "slideshow": {
     "slide_type": "subslide"
    }
   },
   "source": [
    "## Role\n",
    "\n",
    "A wrapper class that binds together specific technologies to create business units. Such a unit is described like \"E-Shop server\", \"Mail server\" etc.\n",
    "\n",
    "```puppet\n",
    "class roles::eshop {\n",
    "  include profiles::wordpress\n",
    "  include profiles::paypal\n",
    "  include profiles::alphabankwebconnect\n",
    "}\n",
    "```"
   ]
  },
  {
   "cell_type": "markdown",
   "metadata": {
    "slideshow": {
     "slide_type": "subslide"
    }
   },
   "source": [
    "## Rules\n",
    "\n",
    "* Roles only use incudes\n",
    "* Roles only include profiles\n",
    "\n",
    "* Profiles may declare resources and classes; use includes where sensible\n",
    "* Profiles accept input"
   ]
  },
  {
   "cell_type": "markdown",
   "metadata": {
    "slideshow": {
     "slide_type": "slide"
    }
   },
   "source": [
    "# What about data?\n",
    "\n",
    "or\n",
    "\n",
    "How do I pass data to profiles?"
   ]
  },
  {
   "cell_type": "markdown",
   "metadata": {
    "slideshow": {
     "slide_type": "subslide"
    }
   },
   "source": [
    "## Enter Hiera(rchical data)\n",
    "\n",
    "Hiera is a Puppetlabs application that helps separate Puppet logic from data required to be passed to resources.\n",
    "\n",
    "Hiera allows the user to define an hierarchy of (yaml) files in which to search for data when applying on a node. The information about the hierarchy is static in the configuration file:\n",
    "\n",
    "```yaml\n",
    ":backends:\n",
    "  - yaml\n",
    ":hierarchy:\n",
    "  - \"%{clientcert}\"\n",
    "  - \"%{environment}\"\n",
    "  - \"%{facter.os.name}\"/\"%{facter.os.release.full}\"\n",
    "  - common\n",
    "\n",
    ":yaml:\n",
    "  :datadir: /etc/puppet/environments/hieradata\n",
    "```\n",
    "\n",
    "The above hierarchy will look for data in files in the *datadir*. First it will look for data in file with the name of the node (clientcert), if this does not exist it will look for data in a file with the name of the environment used, then for a file with the OS version within a folder with the OS name and finally in the file named common.yaml."
   ]
  },
  {
   "cell_type": "markdown",
   "metadata": {
    "slideshow": {
     "slide_type": "subslide"
    }
   },
   "source": [
    "## Hiera yaml files\n",
    "\n",
    "Defining variables in yaml:\n",
    "```yaml\n",
    "profile::mysql::mysql::root_password: \"root\"\n",
    "profile::mysql::mysql::bind_address: \"0.0.0.0\"\n",
    "```\n",
    "Corresponding class:\n",
    "```puppet\n",
    "class profile::mysql::mysql (\n",
    "  $root_password,\n",
    "  $bind_address,\n",
    "){\n",
    "  class { '::mysql::server':\n",
    "    root_password    => $root_password,\n",
    "    override_options => {\n",
    "      'mysqld' => {\n",
    "        'bind_address'           => $bind_address,\n",
    "        'default_storage_engine' => 'InnoDB',\n",
    "        'max_connections'        => 1024,\n",
    "        'open_files_limit'       => -1\n",
    "      }\n",
    "    },\n",
    "    restart          => true\n",
    "  }\n",
    "}\n",
    "```"
   ]
  },
  {
   "cell_type": "markdown",
   "metadata": {
    "slideshow": {
     "slide_type": "slide"
    }
   },
   "source": [
    "## Bringing it all together\n",
    "\n",
    "* Profiles define technology stacks by declaring classes and resources\n",
    "* Roles define physical objects by including profiles\n",
    "* Hiera defines a lookup hierarchy for data\n",
    "* Only data in hiera are to be changed for a new deployment\n",
    "\n",
    "Note:\n",
    "\n",
    "**Hiera should only define data for profiles, not for modules**\n",
    "\n",
    "Correct:\n",
    "```yaml\n",
    "profile::mysql::mysql::root_password: \"root\"\n",
    "```\n",
    "\n",
    "Wrong:\n",
    "```yaml\n",
    "mysql::root_password: \"root\"\n",
    "```\n",
    "\n",
    "This helps avoid mistaken lookups; mysql module may be used by many profiles, one should be able to define the password at profile level as the module level may have higher priority."
   ]
  },
  {
   "cell_type": "markdown",
   "metadata": {
    "slideshow": {
     "slide_type": "slide"
    }
   },
   "source": [
    "## Other tools and integration\n",
    "\n",
    "* R10k\n",
    "* Foreman"
   ]
  },
  {
   "cell_type": "markdown",
   "metadata": {
    "slideshow": {
     "slide_type": "subslide"
    }
   },
   "source": [
    "## R10k\n",
    "\n",
    "According to experts Roles&Profiles reside in the same repository as the Puppetfile. Same goes for Hiera files.\n",
    "\n",
    "* Allows easier integration in an *environments* based topology\n",
    "* Signifies that profiles and roles are specific to the installation, not to be shared as they don't necessarily make much sense in a different environment."
   ]
  },
  {
   "cell_type": "markdown",
   "metadata": {
    "slideshow": {
     "slide_type": "subslide"
    }
   },
   "source": [
    "## Foreman\n",
    "\n",
    "Foreman is great for roles and profiles pattern and can also work with Hiera. Different levels of integration with foreman can be achieved.\n",
    "\n",
    "Profiles can be defined as *Config groups* and roles as *Hostgroups* if logic is to be stored in Foreman.\n",
    "Also profiles and roles can be viewed as ordinary puppet classes to be assigned in hosts if logic is to be stored in puppet repo.\n",
    "\n",
    "Profile variables can be defined as *Smart Class Parameters* if they are meant to be stored in Foreman.\n",
    "Profile variables can be passed to Hiera with *Smart Variables* if the data are to be stored in hiera repo.\n",
    "\n",
    "We opt for the second solution in both cases as it allows us to separate the ENC from actual Puppet and be able to use the puppet configuration for stand alone deployments dureng development and demos."
   ]
  },
  {
   "cell_type": "markdown",
   "metadata": {
    "slideshow": {
     "slide_type": "slide"
    }
   },
   "source": [
    "## More info\n",
    "\n",
    "* [Hiera](https://docs.puppet.com/hiera/1/)\n",
    "* [Roles and Profiles](http://garylarizza.com/blog/2014/02/17/puppet-workflow-part-2/)"
   ]
  }
 ],
 "metadata": {
  "celltoolbar": "Slideshow",
  "kernelspec": {
   "display_name": "Python 2",
   "language": "python",
   "name": "python2"
  },
  "language_info": {
   "codemirror_mode": {
    "name": "ipython",
    "version": 2
   },
   "file_extension": ".py",
   "mimetype": "text/x-python",
   "name": "python",
   "nbconvert_exporter": "python",
   "pygments_lexer": "ipython2",
   "version": "2.7.5"
  }
 },
 "nbformat": 4,
 "nbformat_minor": 2
}
